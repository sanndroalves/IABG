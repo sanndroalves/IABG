{
 "cells": [
  {
   "cell_type": "code",
   "execution_count": 1,
   "metadata": {},
   "outputs": [],
   "source": [
    "import numpy as np\n",
    "from sklearn.ensemble import IsolationForest"
   ]
  },
  {
   "cell_type": "code",
   "execution_count": 2,
   "metadata": {},
   "outputs": [],
   "source": [
    "leucocitos = np.array([2000, 4000, 5000, 6500])\n",
    "plaquetas = np.array([100000, 20000, 80000, 145000])\n",
    "linfocitos = np.array([2.3, 4.5, 6.5, 4.4])"
   ]
  },
  {
   "cell_type": "code",
   "execution_count": 3,
   "metadata": {},
   "outputs": [],
   "source": [
    "dados = np.column_stack((leucocitos, plaquetas, linfocitos))"
   ]
  },
  {
   "cell_type": "code",
   "execution_count": 4,
   "metadata": {},
   "outputs": [],
   "source": [
    "modelo = IsolationForest(contamination=0.25)  \n",
    "anomalias = modelo.fit_predict(dados)"
   ]
  },
  {
   "cell_type": "code",
   "execution_count": 5,
   "metadata": {},
   "outputs": [],
   "source": [
    "indices_anomalias = np.where(anomalias == -1)[0]"
   ]
  },
  {
   "cell_type": "code",
   "execution_count": 6,
   "metadata": {},
   "outputs": [
    {
     "name": "stdout",
     "output_type": "stream",
     "text": [
      "Índices de Anomalias: [0]\n"
     ]
    }
   ],
   "source": [
    "print(\"Índices de Anomalias:\", indices_anomalias)"
   ]
  },
  {
   "cell_type": "code",
   "execution_count": 7,
   "metadata": {},
   "outputs": [
    {
     "name": "stdout",
     "output_type": "stream",
     "text": [
      "Pacientes com Anomalias:\n",
      "Paciente 1: Leucócitos=2000, Plaquetas=100000, Linfócitos=2.3\n"
     ]
    }
   ],
   "source": [
    "print(\"Pacientes com Anomalias:\")\n",
    "for indice in indices_anomalias:\n",
    "    print(f\"Paciente {indice + 1}: Leucócitos={leucocitos[indice]}, Plaquetas={plaquetas[indice]}, Linfócitos={linfocitos[indice]}\")"
   ]
  }
 ],
 "metadata": {
  "kernelspec": {
   "display_name": "Python 3",
   "language": "python",
   "name": "python3"
  },
  "language_info": {
   "codemirror_mode": {
    "name": "ipython",
    "version": 3
   },
   "file_extension": ".py",
   "mimetype": "text/x-python",
   "name": "python",
   "nbconvert_exporter": "python",
   "pygments_lexer": "ipython3",
   "version": "3.9.13"
  }
 },
 "nbformat": 4,
 "nbformat_minor": 2
}
