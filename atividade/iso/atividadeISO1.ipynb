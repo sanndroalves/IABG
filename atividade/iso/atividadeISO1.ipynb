{
 "cells": [
  {
   "cell_type": "code",
   "execution_count": 1,
   "metadata": {},
   "outputs": [],
   "source": [
    "import numpy as np\n",
    "from sklearn.cluster import DBSCAN"
   ]
  },
  {
   "cell_type": "code",
   "execution_count": 2,
   "metadata": {},
   "outputs": [],
   "source": [
    "area = np.array([120, 145, 80, 160, 200, 90, 110, 130, 180, 160])\n",
    "valor = np.array([300, 450, 550, 600, 350, 420, 550, 780, 360, 575])\n",
    "dist_praia = np.array([15, 15, 8, 25, 12, 15, 22, 8, 5, 14])"
   ]
  },
  {
   "cell_type": "code",
   "execution_count": 4,
   "metadata": {},
   "outputs": [],
   "source": [
    "dados = np.column_stack((area, dist_praia, valor))"
   ]
  },
  {
   "cell_type": "code",
   "execution_count": 5,
   "metadata": {},
   "outputs": [],
   "source": [
    "dbscan = DBSCAN(eps=20, min_samples=2)\n",
    "clusters = dbscan.fit_predict(dados)"
   ]
  },
  {
   "cell_type": "code",
   "execution_count": 6,
   "metadata": {},
   "outputs": [],
   "source": [
    "dados_com_clusters = np.column_stack((dados, clusters))"
   ]
  },
  {
   "cell_type": "code",
   "execution_count": 7,
   "metadata": {},
   "outputs": [
    {
     "name": "stdout",
     "output_type": "stream",
     "text": [
      "Dados com Clusters:\n",
      "[[120  15 300  -1]\n",
      " [145  15 450  -1]\n",
      " [ 80   8 550  -1]\n",
      " [160  25 600  -1]\n",
      " [200  12 350  -1]\n",
      " [ 90  15 420  -1]\n",
      " [110  22 550  -1]\n",
      " [130   8 780  -1]\n",
      " [180   5 360  -1]\n",
      " [160  14 575  -1]]\n"
     ]
    }
   ],
   "source": [
    "print(\"Dados com Clusters:\")\n",
    "print(dados_com_clusters)"
   ]
  },
  {
   "cell_type": "code",
   "execution_count": 8,
   "metadata": {},
   "outputs": [],
   "source": [
    "num_clusters = len(set(clusters)) - (1 if -1 in clusters else 0)  \n",
    "for i in range(num_clusters):\n",
    "    cluster_indices = np.where(clusters == i)[0]\n",
    "    valor_medio = np.mean(valor[cluster_indices])\n",
    "    print(f\"Grupo {i}: Valor Médio = {valor_medio}\")"
   ]
  }
 ],
 "metadata": {
  "kernelspec": {
   "display_name": "Python 3",
   "language": "python",
   "name": "python3"
  },
  "language_info": {
   "codemirror_mode": {
    "name": "ipython",
    "version": 3
   },
   "file_extension": ".py",
   "mimetype": "text/x-python",
   "name": "python",
   "nbconvert_exporter": "python",
   "pygments_lexer": "ipython3",
   "version": "3.9.13"
  }
 },
 "nbformat": 4,
 "nbformat_minor": 2
}
