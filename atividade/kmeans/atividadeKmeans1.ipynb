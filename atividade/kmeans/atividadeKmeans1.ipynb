{
 "cells": [
  {
   "cell_type": "code",
   "execution_count": 1,
   "metadata": {},
   "outputs": [],
   "source": [
    "import numpy as np\n",
    "import pandas as pd\n",
    "from sklearn.cluster import KMeans\n",
    "from sklearn.preprocessing import LabelEncoder"
   ]
  },
  {
   "cell_type": "code",
   "execution_count": 2,
   "metadata": {},
   "outputs": [],
   "source": [
    "data = {\n",
    "    'Teor Alcoólico': [3, 4, 5, 6],\n",
    "    'Acidez': ['muito', 'pouco', 'médio', 'baixo'],\n",
    "    'pH': [4.3, 2.8, 4.2, 3.9]\n",
    "}\n",
    "\n",
    "df = pd.DataFrame(data)"
   ]
  },
  {
   "cell_type": "code",
   "execution_count": 3,
   "metadata": {},
   "outputs": [],
   "source": [
    "le = LabelEncoder()\n",
    "df['Acidez'] = le.fit_transform(df['Acidez'])\n",
    "\n",
    "X = df.values"
   ]
  },
  {
   "cell_type": "code",
   "execution_count": 4,
   "metadata": {},
   "outputs": [
    {
     "name": "stdout",
     "output_type": "stream",
     "text": [
      "DataFrame:\n",
      "   Teor Alcoólico  Acidez   pH\n",
      "0               3       1  4.3\n",
      "1               4       3  2.8\n",
      "2               5       2  4.2\n",
      "3               6       0  3.9\n",
      "\n",
      "Matriz numpy:\n",
      "[[3.  1.  4.3]\n",
      " [4.  3.  2.8]\n",
      " [5.  2.  4.2]\n",
      " [6.  0.  3.9]]\n"
     ]
    }
   ],
   "source": [
    "print(\"DataFrame:\")\n",
    "print(df)\n",
    "\n",
    "print(\"\\nMatriz numpy:\")\n",
    "print(X)"
   ]
  }
 ],
 "metadata": {
  "kernelspec": {
   "display_name": "Python 3",
   "language": "python",
   "name": "python3"
  },
  "language_info": {
   "codemirror_mode": {
    "name": "ipython",
    "version": 3
   },
   "file_extension": ".py",
   "mimetype": "text/x-python",
   "name": "python",
   "nbconvert_exporter": "python",
   "pygments_lexer": "ipython3",
   "version": "3.9.13"
  }
 },
 "nbformat": 4,
 "nbformat_minor": 2
}
