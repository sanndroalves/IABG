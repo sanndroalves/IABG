{
 "cells": [
  {
   "cell_type": "code",
   "execution_count": 20,
   "metadata": {},
   "outputs": [],
   "source": [
    "import numpy as np\n",
    "import pandas as pd\n",
    "from sklearn.model_selection import train_test_split\n",
    "from sklearn.tree import DecisionTreeClassifier\n",
    "from sklearn.metrics import accuracy_score\n",
    "from sklearn import tree\n",
    "import matplotlib.pyplot as plt\n",
    "import seaborn as sns"
   ]
  },
  {
   "cell_type": "code",
   "execution_count": 21,
   "metadata": {},
   "outputs": [],
   "source": [
    "#a importação de um conjunto de dados\n",
    "df = pd.read_csv('C:/Users/sannd/OneDrive/Área de Trabalho/SENAI/2SEMESTRE/IA/dados_produtos.csv',sep =',')"
   ]
  },
  {
   "cell_type": "code",
   "execution_count": 22,
   "metadata": {},
   "outputs": [
    {
     "data": {
      "text/html": [
       "<div>\n",
       "<style scoped>\n",
       "    .dataframe tbody tr th:only-of-type {\n",
       "        vertical-align: middle;\n",
       "    }\n",
       "\n",
       "    .dataframe tbody tr th {\n",
       "        vertical-align: top;\n",
       "    }\n",
       "\n",
       "    .dataframe thead th {\n",
       "        text-align: right;\n",
       "    }\n",
       "</style>\n",
       "<table border=\"1\" class=\"dataframe\">\n",
       "  <thead>\n",
       "    <tr style=\"text-align: right;\">\n",
       "      <th></th>\n",
       "      <th>product_name</th>\n",
       "      <th>rating</th>\n",
       "      <th>rating_count</th>\n",
       "      <th>purchased</th>\n",
       "    </tr>\n",
       "  </thead>\n",
       "  <tbody>\n",
       "    <tr>\n",
       "      <th>0</th>\n",
       "      <td>Televisão</td>\n",
       "      <td>3.04</td>\n",
       "      <td>29</td>\n",
       "      <td>1</td>\n",
       "    </tr>\n",
       "    <tr>\n",
       "      <th>1</th>\n",
       "      <td>Celular</td>\n",
       "      <td>3.46</td>\n",
       "      <td>3872</td>\n",
       "      <td>0</td>\n",
       "    </tr>\n",
       "    <tr>\n",
       "      <th>2</th>\n",
       "      <td>Cafeteira</td>\n",
       "      <td>3.25</td>\n",
       "      <td>1187</td>\n",
       "      <td>0</td>\n",
       "    </tr>\n",
       "    <tr>\n",
       "      <th>3</th>\n",
       "      <td>Televisão</td>\n",
       "      <td>3.77</td>\n",
       "      <td>4097</td>\n",
       "      <td>1</td>\n",
       "    </tr>\n",
       "    <tr>\n",
       "      <th>4</th>\n",
       "      <td>Videogame</td>\n",
       "      <td>5.00</td>\n",
       "      <td>4738</td>\n",
       "      <td>1</td>\n",
       "    </tr>\n",
       "  </tbody>\n",
       "</table>\n",
       "</div>"
      ],
      "text/plain": [
       "  product_name  rating  rating_count  purchased\n",
       "0    Televisão    3.04            29          1\n",
       "1      Celular    3.46          3872          0\n",
       "2    Cafeteira    3.25          1187          0\n",
       "3    Televisão    3.77          4097          1\n",
       "4    Videogame    5.00          4738          1"
      ]
     },
     "execution_count": 22,
     "metadata": {},
     "output_type": "execute_result"
    }
   ],
   "source": [
    "#definindo o tamnho do nosso conjunto de dados e listando ele\n",
    "df.tail(100)\n",
    "df.head()"
   ]
  },
  {
   "cell_type": "code",
   "execution_count": 23,
   "metadata": {},
   "outputs": [],
   "source": [
    "#criando dicionario para renomear as colunas\n",
    "dic_colunas={\n",
    "    'product_name':'Nome do Produto','rating': 'Média','rating_count':'Número de Avaliações',\n",
    "    'purchased':'comprou'\n",
    "}\n",
    "#renomeando as colunas\n",
    "df = df.rename(dic_colunas, axis =1)\n"
   ]
  },
  {
   "cell_type": "code",
   "execution_count": 24,
   "metadata": {},
   "outputs": [
    {
     "data": {
      "text/html": [
       "<div>\n",
       "<style scoped>\n",
       "    .dataframe tbody tr th:only-of-type {\n",
       "        vertical-align: middle;\n",
       "    }\n",
       "\n",
       "    .dataframe tbody tr th {\n",
       "        vertical-align: top;\n",
       "    }\n",
       "\n",
       "    .dataframe thead th {\n",
       "        text-align: right;\n",
       "    }\n",
       "</style>\n",
       "<table border=\"1\" class=\"dataframe\">\n",
       "  <thead>\n",
       "    <tr style=\"text-align: right;\">\n",
       "      <th></th>\n",
       "      <th>Nome do Produto</th>\n",
       "      <th>Média</th>\n",
       "      <th>Número de Avaliações</th>\n",
       "      <th>comprou</th>\n",
       "    </tr>\n",
       "  </thead>\n",
       "  <tbody>\n",
       "    <tr>\n",
       "      <th>0</th>\n",
       "      <td>Televisão</td>\n",
       "      <td>3.04</td>\n",
       "      <td>29</td>\n",
       "      <td>1</td>\n",
       "    </tr>\n",
       "    <tr>\n",
       "      <th>1</th>\n",
       "      <td>Celular</td>\n",
       "      <td>3.46</td>\n",
       "      <td>3872</td>\n",
       "      <td>0</td>\n",
       "    </tr>\n",
       "    <tr>\n",
       "      <th>2</th>\n",
       "      <td>Cafeteira</td>\n",
       "      <td>3.25</td>\n",
       "      <td>1187</td>\n",
       "      <td>0</td>\n",
       "    </tr>\n",
       "    <tr>\n",
       "      <th>3</th>\n",
       "      <td>Televisão</td>\n",
       "      <td>3.77</td>\n",
       "      <td>4097</td>\n",
       "      <td>1</td>\n",
       "    </tr>\n",
       "    <tr>\n",
       "      <th>4</th>\n",
       "      <td>Videogame</td>\n",
       "      <td>5.00</td>\n",
       "      <td>4738</td>\n",
       "      <td>1</td>\n",
       "    </tr>\n",
       "  </tbody>\n",
       "</table>\n",
       "</div>"
      ],
      "text/plain": [
       "  Nome do Produto  Média  Número de Avaliações  comprou\n",
       "0       Televisão   3.04                    29        1\n",
       "1         Celular   3.46                  3872        0\n",
       "2       Cafeteira   3.25                  1187        0\n",
       "3       Televisão   3.77                  4097        1\n",
       "4       Videogame   5.00                  4738        1"
      ]
     },
     "execution_count": 24,
     "metadata": {},
     "output_type": "execute_result"
    }
   ],
   "source": [
    "df.head()"
   ]
  },
  {
   "cell_type": "code",
   "execution_count": 25,
   "metadata": {},
   "outputs": [],
   "source": [
    "#definindo as variavéis para serem utilizadas no boxplot\n",
    "notas = df['Média']\n",
    "produtos = df['Nome do Produto']\n"
   ]
  },
  {
   "cell_type": "code",
   "execution_count": 26,
   "metadata": {},
   "outputs": [
    {
     "data": {
      "text/plain": [
       "Text(0.5, 0, 'product_name')"
      ]
     },
     "execution_count": 26,
     "metadata": {},
     "output_type": "execute_result"
    },
    {
     "data": {
      "image/png": "[encoded data removed]",
      "text/plain": [
       "<Figure size 640x480 with 1 Axes>"
      ]
     },
     "metadata": {},
     "output_type": "display_data"
    }
   ],
   "source": [
    "#mostrando o boxplot do nosso conjunto de dados\n",
    "sns.boxplot(x = produtos, y = notas)\n",
    "plt.title('Box plot dos produtos')\n",
    "plt.ylabel('rating')\n",
    "plt.xlabel('product_name')"
   ]
  },
  {
   "cell_type": "code",
   "execution_count": 27,
   "metadata": {},
   "outputs": [
    {
     "name": "stdout",
     "output_type": "stream",
     "text": [
      "<class 'pandas.core.frame.DataFrame'>\n",
      "RangeIndex: 100 entries, 0 to 99\n",
      "Data columns (total 4 columns):\n",
      " #   Column                Non-Null Count  Dtype  \n",
      "---  ------                --------------  -----  \n",
      " 0   Nome do Produto       100 non-null    object \n",
      " 1   Média                 100 non-null    float64\n",
      " 2   Número de Avaliações  100 non-null    int64  \n",
      " 3   comprou               100 non-null    int64  \n",
      "dtypes: float64(1), int64(2), object(1)\n",
      "memory usage: 3.3+ KB\n"
     ]
    },
    {
     "data": {
      "text/html": [
       "<div>\n",
       "<style scoped>\n",
       "    .dataframe tbody tr th:only-of-type {\n",
       "        vertical-align: middle;\n",
       "    }\n",
       "\n",
       "    .dataframe tbody tr th {\n",
       "        vertical-align: top;\n",
       "    }\n",
       "\n",
       "    .dataframe thead th {\n",
       "        text-align: right;\n",
       "    }\n",
       "</style>\n",
       "<table border=\"1\" class=\"dataframe\">\n",
       "  <thead>\n",
       "    <tr style=\"text-align: right;\">\n",
       "      <th></th>\n",
       "      <th>Média</th>\n",
       "      <th>Número de Avaliações</th>\n",
       "      <th>comprou</th>\n",
       "    </tr>\n",
       "  </thead>\n",
       "  <tbody>\n",
       "    <tr>\n",
       "      <th>count</th>\n",
       "      <td>100.000000</td>\n",
       "      <td>100.000000</td>\n",
       "      <td>100.00</td>\n",
       "    </tr>\n",
       "    <tr>\n",
       "      <th>mean</th>\n",
       "      <td>4.056900</td>\n",
       "      <td>2536.670000</td>\n",
       "      <td>0.55</td>\n",
       "    </tr>\n",
       "    <tr>\n",
       "      <th>std</th>\n",
       "      <td>0.588344</td>\n",
       "      <td>1458.312544</td>\n",
       "      <td>0.50</td>\n",
       "    </tr>\n",
       "    <tr>\n",
       "      <th>min</th>\n",
       "      <td>3.020000</td>\n",
       "      <td>10.000000</td>\n",
       "      <td>0.00</td>\n",
       "    </tr>\n",
       "    <tr>\n",
       "      <th>25%</th>\n",
       "      <td>3.580000</td>\n",
       "      <td>1433.250000</td>\n",
       "      <td>0.00</td>\n",
       "    </tr>\n",
       "    <tr>\n",
       "      <th>50%</th>\n",
       "      <td>4.105000</td>\n",
       "      <td>2424.000000</td>\n",
       "      <td>1.00</td>\n",
       "    </tr>\n",
       "    <tr>\n",
       "      <th>75%</th>\n",
       "      <td>4.505000</td>\n",
       "      <td>3773.000000</td>\n",
       "      <td>1.00</td>\n",
       "    </tr>\n",
       "    <tr>\n",
       "      <th>max</th>\n",
       "      <td>5.000000</td>\n",
       "      <td>4977.000000</td>\n",
       "      <td>1.00</td>\n",
       "    </tr>\n",
       "  </tbody>\n",
       "</table>\n",
       "</div>"
      ],
      "text/plain": [
       "            Média  Número de Avaliações  comprou\n",
       "count  100.000000            100.000000   100.00\n",
       "mean     4.056900           2536.670000     0.55\n",
       "std      0.588344           1458.312544     0.50\n",
       "min      3.020000             10.000000     0.00\n",
       "25%      3.580000           1433.250000     0.00\n",
       "50%      4.105000           2424.000000     1.00\n",
       "75%      4.505000           3773.000000     1.00\n",
       "max      5.000000           4977.000000     1.00"
      ]
     },
     "execution_count": 27,
     "metadata": {},
     "output_type": "execute_result"
    }
   ],
   "source": [
    "#verificando as informações sobre as colunos do conjunto de dados e alguns informações, como total, media, desvio padrao, quartis, max e min\n",
    "df.info()\n",
    "df.describe()"
   ]
  },
  {
   "cell_type": "code",
   "execution_count": 28,
   "metadata": {},
   "outputs": [
    {
     "name": "stdout",
     "output_type": "stream",
     "text": [
      "Total de valores nulos: 0\n",
      "Total de valores nulos: 0\n"
     ]
    }
   ],
   "source": [
    "#pré processamento\n",
    "#verificando se há valores nulos nas colunas de dados\n",
    "print(f\"Total de valores nulos: {df['Média'].isnull().sum()}\")\n",
    "print(f\"Total de valores nulos: {df['Número de Avaliações'].isnull().sum()}\")"
   ]
  },
  {
   "cell_type": "code",
   "execution_count": 29,
   "metadata": {},
   "outputs": [],
   "source": [
    "#substituição dos valores binários para texto, para ser utilizado na arvore de decisão\n",
    "df['comprou']=df['comprou'].replace(1, 'Comprou')\n",
    "df['comprou']=df['comprou'].replace(0, 'Não Comprou')\n"
   ]
  },
  {
   "cell_type": "code",
   "execution_count": 30,
   "metadata": {},
   "outputs": [
    {
     "data": {
      "text/html": [
       "<div>\n",
       "<style scoped>\n",
       "    .dataframe tbody tr th:only-of-type {\n",
       "        vertical-align: middle;\n",
       "    }\n",
       "\n",
       "    .dataframe tbody tr th {\n",
       "        vertical-align: top;\n",
       "    }\n",
       "\n",
       "    .dataframe thead th {\n",
       "        text-align: right;\n",
       "    }\n",
       "</style>\n",
       "<table border=\"1\" class=\"dataframe\">\n",
       "  <thead>\n",
       "    <tr style=\"text-align: right;\">\n",
       "      <th></th>\n",
       "      <th>Nome do Produto</th>\n",
       "      <th>Média</th>\n",
       "      <th>Número de Avaliações</th>\n",
       "      <th>comprou</th>\n",
       "    </tr>\n",
       "  </thead>\n",
       "  <tbody>\n",
       "    <tr>\n",
       "      <th>0</th>\n",
       "      <td>Televisão</td>\n",
       "      <td>3.04</td>\n",
       "      <td>29</td>\n",
       "      <td>Comprou</td>\n",
       "    </tr>\n",
       "    <tr>\n",
       "      <th>1</th>\n",
       "      <td>Celular</td>\n",
       "      <td>3.46</td>\n",
       "      <td>3872</td>\n",
       "      <td>Não Comprou</td>\n",
       "    </tr>\n",
       "    <tr>\n",
       "      <th>2</th>\n",
       "      <td>Cafeteira</td>\n",
       "      <td>3.25</td>\n",
       "      <td>1187</td>\n",
       "      <td>Não Comprou</td>\n",
       "    </tr>\n",
       "    <tr>\n",
       "      <th>3</th>\n",
       "      <td>Televisão</td>\n",
       "      <td>3.77</td>\n",
       "      <td>4097</td>\n",
       "      <td>Comprou</td>\n",
       "    </tr>\n",
       "    <tr>\n",
       "      <th>4</th>\n",
       "      <td>Videogame</td>\n",
       "      <td>5.00</td>\n",
       "      <td>4738</td>\n",
       "      <td>Comprou</td>\n",
       "    </tr>\n",
       "    <tr>\n",
       "      <th>...</th>\n",
       "      <td>...</td>\n",
       "      <td>...</td>\n",
       "      <td>...</td>\n",
       "      <td>...</td>\n",
       "    </tr>\n",
       "    <tr>\n",
       "      <th>95</th>\n",
       "      <td>iPod</td>\n",
       "      <td>4.44</td>\n",
       "      <td>1372</td>\n",
       "      <td>Não Comprou</td>\n",
       "    </tr>\n",
       "    <tr>\n",
       "      <th>96</th>\n",
       "      <td>Celular</td>\n",
       "      <td>4.66</td>\n",
       "      <td>1690</td>\n",
       "      <td>Comprou</td>\n",
       "    </tr>\n",
       "    <tr>\n",
       "      <th>97</th>\n",
       "      <td>Televisão</td>\n",
       "      <td>4.33</td>\n",
       "      <td>3364</td>\n",
       "      <td>Comprou</td>\n",
       "    </tr>\n",
       "    <tr>\n",
       "      <th>98</th>\n",
       "      <td>Notebook</td>\n",
       "      <td>3.30</td>\n",
       "      <td>1825</td>\n",
       "      <td>Comprou</td>\n",
       "    </tr>\n",
       "    <tr>\n",
       "      <th>99</th>\n",
       "      <td>iPod</td>\n",
       "      <td>4.08</td>\n",
       "      <td>533</td>\n",
       "      <td>Não Comprou</td>\n",
       "    </tr>\n",
       "  </tbody>\n",
       "</table>\n",
       "<p>100 rows × 4 columns</p>\n",
       "</div>"
      ],
      "text/plain": [
       "   Nome do Produto  Média  Número de Avaliações      comprou\n",
       "0        Televisão   3.04                    29      Comprou\n",
       "1          Celular   3.46                  3872  Não Comprou\n",
       "2        Cafeteira   3.25                  1187  Não Comprou\n",
       "3        Televisão   3.77                  4097      Comprou\n",
       "4        Videogame   5.00                  4738      Comprou\n",
       "..             ...    ...                   ...          ...\n",
       "95            iPod   4.44                  1372  Não Comprou\n",
       "96         Celular   4.66                  1690      Comprou\n",
       "97       Televisão   4.33                  3364      Comprou\n",
       "98        Notebook   3.30                  1825      Comprou\n",
       "99            iPod   4.08                   533  Não Comprou\n",
       "\n",
       "[100 rows x 4 columns]"
      ]
     },
     "execution_count": 30,
     "metadata": {},
     "output_type": "execute_result"
    }
   ],
   "source": [
    "df.head(100)"
   ]
  },
  {
   "cell_type": "code",
   "execution_count": 31,
   "metadata": {},
   "outputs": [
    {
     "data": {
      "text/plain": [
       "array([['Comprou'],\n",
       "       ['Não Comprou'],\n",
       "       ['Não Comprou'],\n",
       "       ['Comprou'],\n",
       "       ['Comprou'],\n",
       "       ['Não Comprou'],\n",
       "       ['Não Comprou'],\n",
       "       ['Não Comprou'],\n",
       "       ['Comprou'],\n",
       "       ['Não Comprou'],\n",
       "       ['Não Comprou'],\n",
       "       ['Comprou'],\n",
       "       ['Comprou'],\n",
       "       ['Não Comprou'],\n",
       "       ['Comprou'],\n",
       "       ['Comprou'],\n",
       "       ['Comprou'],\n",
       "       ['Comprou'],\n",
       "       ['Comprou'],\n",
       "       ['Não Comprou'],\n",
       "       ['Não Comprou'],\n",
       "       ['Não Comprou'],\n",
       "       ['Comprou'],\n",
       "       ['Comprou'],\n",
       "       ['Comprou'],\n",
       "       ['Comprou'],\n",
       "       ['Comprou'],\n",
       "       ['Não Comprou'],\n",
       "       ['Comprou'],\n",
       "       ['Não Comprou'],\n",
       "       ['Comprou'],\n",
       "       ['Não Comprou'],\n",
       "       ['Comprou'],\n",
       "       ['Comprou'],\n",
       "       ['Não Comprou'],\n",
       "       ['Não Comprou'],\n",
       "       ['Não Comprou'],\n",
       "       ['Não Comprou'],\n",
       "       ['Comprou'],\n",
       "       ['Comprou'],\n",
       "       ['Comprou'],\n",
       "       ['Comprou'],\n",
       "       ['Comprou'],\n",
       "       ['Comprou'],\n",
       "       ['Comprou'],\n",
       "       ['Comprou'],\n",
       "       ['Comprou'],\n",
       "       ['Não Comprou'],\n",
       "       ['Comprou'],\n",
       "       ['Comprou'],\n",
       "       ['Não Comprou'],\n",
       "       ['Não Comprou'],\n",
       "       ['Comprou'],\n",
       "       ['Não Comprou'],\n",
       "       ['Não Comprou'],\n",
       "       ['Não Comprou'],\n",
       "       ['Não Comprou'],\n",
       "       ['Não Comprou'],\n",
       "       ['Não Comprou'],\n",
       "       ['Comprou'],\n",
       "       ['Não Comprou'],\n",
       "       ['Comprou'],\n",
       "       ['Não Comprou'],\n",
       "       ['Não Comprou'],\n",
       "       ['Comprou'],\n",
       "       ['Não Comprou'],\n",
       "       ['Comprou'],\n",
       "       ['Comprou'],\n",
       "       ['Comprou'],\n",
       "       ['Não Comprou'],\n",
       "       ['Não Comprou'],\n",
       "       ['Não Comprou'],\n",
       "       ['Comprou'],\n",
       "       ['Não Comprou'],\n",
       "       ['Não Comprou'],\n",
       "       ['Comprou'],\n",
       "       ['Comprou'],\n",
       "       ['Comprou'],\n",
       "       ['Comprou'],\n",
       "       ['Não Comprou'],\n",
       "       ['Comprou'],\n",
       "       ['Comprou'],\n",
       "       ['Comprou'],\n",
       "       ['Comprou'],\n",
       "       ['Comprou'],\n",
       "       ['Comprou'],\n",
       "       ['Não Comprou'],\n",
       "       ['Não Comprou'],\n",
       "       ['Não Comprou'],\n",
       "       ['Não Comprou'],\n",
       "       ['Comprou'],\n",
       "       ['Comprou'],\n",
       "       ['Não Comprou'],\n",
       "       ['Não Comprou'],\n",
       "       ['Comprou'],\n",
       "       ['Não Comprou'],\n",
       "       ['Comprou'],\n",
       "       ['Comprou'],\n",
       "       ['Comprou'],\n",
       "       ['Não Comprou']], dtype=object)"
      ]
     },
     "execution_count": 31,
     "metadata": {},
     "output_type": "execute_result"
    }
   ],
   "source": [
    "#criando as variáveis para dividir o conjunto de dados e utilziando para o treinamendo da arvore de decisão\n",
    "X =  np.array(df[['Média', 'Número de Avaliações']])\n",
    "y = np.array(df.comprou)\n",
    "\n",
    "X.reshape(-1,1)\n",
    "y.reshape(-1,1)"
   ]
  },
  {
   "cell_type": "code",
   "execution_count": 32,
   "metadata": {},
   "outputs": [],
   "source": [
    "notas = np.array(df['Média'])"
   ]
  },
  {
   "cell_type": "code",
   "execution_count": 33,
   "metadata": {},
   "outputs": [],
   "source": [
    "#criando nosso treinamento e salvando em variáveis para serem criadas as arvores de decisões com cada eletrônico\n",
    "x_treino, x_teste, y_treino, y_teste = train_test_split(X, y,test_size=0.3,random_state=42)                                                                      "
   ]
  },
  {
   "cell_type": "code",
   "execution_count": 34,
   "metadata": {},
   "outputs": [
    {
     "data": {
      "text/html": [
       "<style>#sk-container-id-1 {color: black;}#sk-container-id-1 pre{padding: 0;}#sk-container-id-1 div.sk-toggleable {background-color: white;}#sk-container-id-1 label.sk-toggleable__label {cursor: pointer;display: block;width: 100%;margin-bottom: 0;padding: 0.3em;box-sizing: border-box;text-align: center;}#sk-container-id-1 label.sk-toggleable__label-arrow:before {content: \"▸\";float: left;margin-right: 0.25em;color: #696969;}#sk-container-id-1 label.sk-toggleable__label-arrow:hover:before {color: black;}#sk-container-id-1 div.sk-estimator:hover label.sk-toggleable__label-arrow:before {color: black;}#sk-container-id-1 div.sk-toggleable__content {max-height: 0;max-width: 0;overflow: hidden;text-align: left;background-color: #f0f8ff;}#sk-container-id-1 div.sk-toggleable__content pre {margin: 0.2em;color: black;border-radius: 0.25em;background-color: #f0f8ff;}#sk-container-id-1 input.sk-toggleable__control:checked~div.sk-toggleable__content {max-height: 200px;max-width: 100%;overflow: auto;}#sk-container-id-1 input.sk-toggleable__control:checked~label.sk-toggleable__label-arrow:before {content: \"▾\";}#sk-container-id-1 div.sk-estimator input.sk-toggleable__control:checked~label.sk-toggleable__label {background-color: #d4ebff;}#sk-container-id-1 div.sk-label input.sk-toggleable__control:checked~label.sk-toggleable__label {background-color: #d4ebff;}#sk-container-id-1 input.sk-hidden--visually {border: 0;clip: rect(1px 1px 1px 1px);clip: rect(1px, 1px, 1px, 1px);height: 1px;margin: -1px;overflow: hidden;padding: 0;position: absolute;width: 1px;}#sk-container-id-1 div.sk-estimator {font-family: monospace;background-color: #f0f8ff;border: 1px dotted black;border-radius: 0.25em;box-sizing: border-box;margin-bottom: 0.5em;}#sk-container-id-1 div.sk-estimator:hover {background-color: #d4ebff;}#sk-container-id-1 div.sk-parallel-item::after {content: \"\";width: 100%;border-bottom: 1px solid gray;flex-grow: 1;}#sk-container-id-1 div.sk-label:hover label.sk-toggleable__label {background-color: #d4ebff;}#sk-container-id-1 div.sk-serial::before {content: \"\";position: absolute;border-left: 1px solid gray;box-sizing: border-box;top: 0;bottom: 0;left: 50%;z-index: 0;}#sk-container-id-1 div.sk-serial {display: flex;flex-direction: column;align-items: center;background-color: white;padding-right: 0.2em;padding-left: 0.2em;position: relative;}#sk-container-id-1 div.sk-item {position: relative;z-index: 1;}#sk-container-id-1 div.sk-parallel {display: flex;align-items: stretch;justify-content: center;background-color: white;position: relative;}#sk-container-id-1 div.sk-item::before, #sk-container-id-1 div.sk-parallel-item::before {content: \"\";position: absolute;border-left: 1px solid gray;box-sizing: border-box;top: 0;bottom: 0;left: 50%;z-index: -1;}#sk-container-id-1 div.sk-parallel-item {display: flex;flex-direction: column;z-index: 1;position: relative;background-color: white;}#sk-container-id-1 div.sk-parallel-item:first-child::after {align-self: flex-end;width: 50%;}#sk-container-id-1 div.sk-parallel-item:last-child::after {align-self: flex-start;width: 50%;}#sk-container-id-1 div.sk-parallel-item:only-child::after {width: 0;}#sk-container-id-1 div.sk-dashed-wrapped {border: 1px dashed gray;margin: 0 0.4em 0.5em 0.4em;box-sizing: border-box;padding-bottom: 0.4em;background-color: white;}#sk-container-id-1 div.sk-label label {font-family: monospace;font-weight: bold;display: inline-block;line-height: 1.2em;}#sk-container-id-1 div.sk-label-container {text-align: center;}#sk-container-id-1 div.sk-container {/* jupyter's `normalize.less` sets `[hidden] { display: none; }` but bootstrap.min.css set `[hidden] { display: none !important; }` so we also need the `!important` here to be able to override the default hidden behavior on the sphinx rendered scikit-learn.org. See: https://github.com/scikit-learn/scikit-learn/issues/21755 */display: inline-block !important;position: relative;}#sk-container-id-1 div.sk-text-repr-fallback {display: none;}</style><div id=\"sk-container-id-1\" class=\"sk-top-container\"><div class=\"sk-text-repr-fallback\"><pre>DecisionTreeClassifier()</pre><b>In a Jupyter environment, please rerun this cell to show the HTML representation or trust the notebook. <br />On GitHub, the HTML representation is unable to render, please try loading this page with nbviewer.org.</b></div><div class=\"sk-container\" hidden><div class=\"sk-item\"><div class=\"sk-estimator sk-toggleable\"><input class=\"sk-toggleable__control sk-hidden--visually\" id=\"sk-estimator-id-1\" type=\"checkbox\" checked><label for=\"sk-estimator-id-1\" class=\"sk-toggleable__label sk-toggleable__label-arrow\">DecisionTreeClassifier</label><div class=\"sk-toggleable__content\"><pre>DecisionTreeClassifier()</pre></div></div></div></div></div>"
      ],
      "text/plain": [
       "DecisionTreeClassifier()"
      ]
     },
     "execution_count": 34,
     "metadata": {},
     "output_type": "execute_result"
    }
   ],
   "source": [
    "#criando cada arvore de decisão e passando os parÂmetros criados a partir do treinamento\n",
    "modeloTelevisao = DecisionTreeClassifier()\n",
    "modeloCelular = DecisionTreeClassifier()\n",
    "modeloCafeteira = DecisionTreeClassifier()\n",
    "modeloVideoGame = DecisionTreeClassifier()\n",
    "modeloNotebook = DecisionTreeClassifier()\n",
    "modeloiPod = DecisionTreeClassifier()\n",
    "\n",
    "modeloTelevisao.fit(x_treino, y_treino)\n",
    "modeloCelular.fit(x_treino, y_treino)\n",
    "modeloCafeteira.fit(x_treino, y_treino)\n",
    "modeloVideoGame.fit(x_treino, y_treino)\n",
    "modeloNotebook.fit(x_treino, y_treino)\n",
    "modeloiPod.fit(x_treino, y_treino)\n",
    "\n"
   ]
  },
  {
   "cell_type": "code",
   "execution_count": 35,
   "metadata": {},
   "outputs": [],
   "source": [
    "#criando as previsões, que são os resultados da arvore \n",
    "previsoesTelevisao = modeloTelevisao.predict(x_teste)\n",
    "previsoesCelular = modeloCelular.predict(x_teste)\n",
    "previsoesCafeteira = modeloCafeteira.predict(x_teste)\n",
    "previsoesVideoGame = modeloVideoGame.predict(x_teste)\n",
    "previsoesNotebook = modeloNotebook.predict(x_teste)\n",
    "previsoesiPod = modeloiPod.predict(x_teste)"
   ]
  },
  {
   "cell_type": "code",
   "execution_count": 36,
   "metadata": {},
   "outputs": [],
   "source": [
    "from sklearn.metrics import f1_score\n",
    "from sklearn.metrics import recall_score"
   ]
  },
  {
   "cell_type": "code",
   "execution_count": 38,
   "metadata": {},
   "outputs": [],
   "source": [
    "#criando as avaliações da arvore de decisão de cada eletrônico\n",
    "precisaoTelevisao = accuracy_score(y_teste, previsoesTelevisao)\n",
    "precisaoCelular= accuracy_score(y_teste, previsoesCelular)\n",
    "precisaoCafeteira = accuracy_score(y_teste, previsoesCafeteira)\n",
    "precisaoVideoGame = accuracy_score(y_teste, previsoesVideoGame)\n",
    "precisaoNotebook = accuracy_score(y_teste, previsoesNotebook)\n",
    "precisaoiPod = accuracy_score(y_teste, previsoesiPod)\n",
    "\n",
    "f1Televisao = f1_score(previsoesTelevisao, y_teste, pos_label='Comprou')\n",
    "f1Celular = f1_score(previsoesCelular, y_teste, pos_label='Comprou')\n",
    "f1Cafeteira = f1_score(previsoesCafeteira, y_teste, pos_label='Comprou')\n",
    "f1VideoGame = f1_score(previsoesVideoGame, y_teste, pos_label='Comprou')\n",
    "f1Notebook = f1_score(previsoesNotebook, y_teste, pos_label='Comprou')\n",
    "f1iPod = f1_score(previsoesiPod, y_teste, pos_label='Comprou')\n",
    "\n",
    "recallTelevisao = recall_score(previsoesTelevisao, y_teste, pos_label='Comprou')\n",
    "recallCelular = recall_score(previsoesCelular, y_teste, pos_label='Comprou')\n",
    "recallCafeteira = recall_score(previsoesCafeteira, y_teste, pos_label='Comprou')\n",
    "recallVideGame = recall_score(previsoesVideoGame, y_teste, pos_label='Comprou')\n",
    "recallNotebook = recall_score(previsoesNotebook, y_teste, pos_label='Comprou')\n",
    "recalliPode = recall_score(previsoesiPod, y_teste, pos_label='Comprou')\n",
    "\n",
    "\n"
   ]
  },
  {
   "cell_type": "code",
   "execution_count": 39,
   "metadata": {},
   "outputs": [
    {
     "name": "stdout",
     "output_type": "stream",
     "text": [
      "Precisão do modelo de Televisão: 0.43333333333333335\n",
      "Precisão do modelo de Celular: 0.43333333333333335\n",
      "Precisão do modelo de Cafeteira: 0.43333333333333335\n",
      "Precisão do modelo de VideoGame: 0.5\n",
      "Precisão do modelo de Notebook: 0.43333333333333335\n",
      "Precisão do modelo de iPod: 0.4666666666666667\n",
      "-----------------------------------\n",
      "Métrica f1 score Televisão: 0.4848484848484849\n",
      "Métrica f1 score Celular: 0.4848484848484849\n",
      "Métrica f1 score Cafeteira: 0.4848484848484849\n",
      "Métrica f1 score VideoGame: 0.5714285714285714\n",
      "Métrica f1 score Notebook: 0.4848484848484849\n",
      "Métrica f1 score iPod: 0.5294117647058824\n",
      "-----------------------------------\n",
      "Métrica recall score Televisão 0.6666666666666666\n",
      "Métrica recall score Celular 0.6666666666666666\n",
      "Métrica recall score Cafeteira 0.6666666666666666\n",
      "Métrica recall score VideoGame 0.7142857142857143\n",
      "Métrica recall score Notebook 0.6666666666666666\n",
      "Métrica recall score iPod 0.6923076923076923\n"
     ]
    }
   ],
   "source": [
    "print(f'Precisão do modelo de Televisão: {precisaoTelevisao}')\n",
    "print(f'Precisão do modelo de Celular: {precisaoCelular}')\n",
    "print(f'Precisão do modelo de Cafeteira: {precisaoCafeteira}')\n",
    "print(f'Precisão do modelo de VideoGame: {precisaoVideoGame}')\n",
    "print(f'Precisão do modelo de Notebook: {precisaoNotebook}')\n",
    "print(f'Precisão do modelo de iPod: {precisaoiPod}')\n",
    "\n",
    "print(\"-----------------------------------\")\n",
    "\n",
    "print(f'Métrica f1 score Televisão: {f1Televisao}')\n",
    "print(f'Métrica f1 score Celular: {f1Celular}')\n",
    "print(f'Métrica f1 score Cafeteira: {f1Cafeteira}')\n",
    "print(f'Métrica f1 score VideoGame: {f1VideoGame}')\n",
    "print(f'Métrica f1 score Notebook: {f1Notebook}')\n",
    "print(f'Métrica f1 score iPod: {f1iPod}')\n",
    "\n",
    "print(\"-----------------------------------\")\n",
    "\n",
    "print(f'Métrica recall score Televisão {recallTelevisao}')\n",
    "print(f'Métrica recall score Celular {recallCelular}')\n",
    "print(f'Métrica recall score Cafeteira {recallCafeteira}')\n",
    "print(f'Métrica recall score VideoGame {recallVideGame}')\n",
    "print(f'Métrica recall score Notebook {recallNotebook}')\n",
    "print(f'Métrica recall score iPod {recalliPode}')\n"
   ]
  },
  {
   "cell_type": "code",
   "execution_count": 41,
   "metadata": {},
   "outputs": [],
   "source": [
    "#criando um função para salvar cada arvore em uma imagem. \n",
    "def salvar_arvore(classificador_arvore_decisao,nome):\n",
    "    plt.figure(figsize=(200,100))\n",
    "    tree.plot_tree(classificador_arvore_decisao,feature_names= notas.tolist(), class_names = y.tolist(), filled= True)\n",
    "    plt.savefig(nome)    \n",
    "    plt.close()"
   ]
  },
  {
   "cell_type": "code",
   "execution_count": null,
   "metadata": {},
   "outputs": [],
   "source": [
    "#salvando cada arvore.\n",
    "salvar_arvore(modeloTelevisao, \"arvore_tv.png\")\n",
    "salvar_arvore(modeloCelular, \"arvore_celular.png\")\n",
    "salvar_arvore(modeloCafeteira, \"arvore_cafeteira.png\")\n",
    "salvar_arvore(modeloVideoGame, \"arvore_video.png\")\n",
    "salvar_arvore(modeloNotebook, \"arvore_notebook.png\")\n",
    "salvar_arvore(modeloiPod, \"arvore_ipod.png\")"
   ]
  }
 ],
 "metadata": {
  "kernelspec": {
   "display_name": "Python 3",
   "language": "python",
   "name": "python3"
  },
  "language_info": {
   "codemirror_mode": {
    "name": "ipython",
    "version": 3
   },
   "file_extension": ".py",
   "mimetype": "text/x-python",
   "name": "python",
   "nbconvert_exporter": "python",
   "pygments_lexer": "ipython3",
   "version": "3.11.4"
  },
  "orig_nbformat": 4
 },
 "nbformat": 4,
 "nbformat_minor": 2
}
